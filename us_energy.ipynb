{
 "cells": [
  {
   "cell_type": "code",
   "execution_count": 1,
   "id": "6a3bbe01",
   "metadata": {},
   "outputs": [],
   "source": [
    "import numpy as np\n",
    "import pandas as pd\n",
    "import matplotlib.pyplot as plt\n"
   ]
  },
  {
   "cell_type": "code",
   "execution_count": 2,
   "id": "7031c11f",
   "metadata": {},
   "outputs": [
    {
     "name": "stdout",
     "output_type": "stream",
     "text": [
      "data/y2001.csv\n",
      "data/y2002.csv\n",
      "data/y2003.csv\n",
      "data/y2004.csv\n",
      "data/y2005.csv\n",
      "data/y2006.csv\n",
      "data/y2007.csv\n",
      "data/y2008.csv\n",
      "data/y2009.csv\n",
      "data/y2010.csv\n",
      "data/y2011.csv\n",
      "data/y2012.csv\n",
      "data/y2013.csv\n",
      "data/y2014.csv\n",
      "data/y2015.csv\n",
      "data/y2016.csv\n",
      "data/y2017.csv\n",
      "data/y2018.csv\n"
     ]
    }
   ],
   "source": [
    "fileName = []\n",
    "for i in range(2001,2019,1):\n",
    "    tempName = \"data/y\" + str(i) + \".csv\"\n",
    "    fileName.append(tempName)\n",
    "    print(tempName)\n",
    "#df = pd.read_csv(\"US CPI.csv\")"
   ]
  },
  {
   "cell_type": "code",
   "execution_count": 3,
   "id": "cac84370",
   "metadata": {},
   "outputs": [],
   "source": [
    "df = []\n",
    "yearStart = 2001\n",
    "for i in range(len(fileName)):\n",
    "    df.append(pd.read_csv(fileName[i]))\n",
    "    df[i]['Year'] = yearStart\n",
    "    yearStart = yearStart + 1\n",
    "    "
   ]
  },
  {
   "cell_type": "code",
   "execution_count": 4,
   "id": "aac97861",
   "metadata": {},
   "outputs": [
    {
     "name": "stdout",
     "output_type": "stream",
     "text": [
      "18\n"
     ]
    }
   ],
   "source": [
    "print(len(df))"
   ]
  },
  {
   "cell_type": "code",
   "execution_count": 5,
   "id": "6ef93391",
   "metadata": {},
   "outputs": [],
   "source": [
    "df_all = pd.DataFrame()\n",
    "\n",
    "for i in range(0,18):\n",
    "    df_all = pd.concat([df_all,df[i]], ignore_index=True)"
   ]
  },
  {
   "cell_type": "code",
   "execution_count": 6,
   "id": "0e6ee6f5",
   "metadata": {},
   "outputs": [
    {
     "name": "stdout",
     "output_type": "stream",
     "text": [
      "   Nameplate     Technology   Latitude  Longitude  PLNTCODE State  Year  \\\n",
      "0       45.0  Hydroelectric  33.458665 -87.356823       2.0    AL  2001   \n",
      "1      170.1    Natural Gas  31.006900 -88.010300       3.0    AL  2001   \n",
      "2      191.8          Other  31.006900 -88.010300       3.0    AL  2001   \n",
      "3      170.1    Natural Gas  31.006900 -88.010300       3.0    AL  2001   \n",
      "4      170.1    Natural Gas  31.006900 -88.010300       3.0    AL  2001   \n",
      "\n",
      "   PLANT_CODE  Plant_ID  \n",
      "0         NaN       NaN  \n",
      "1         NaN       NaN  \n",
      "2         NaN       NaN  \n",
      "3         NaN       NaN  \n",
      "4         NaN       NaN  \n"
     ]
    }
   ],
   "source": [
    "print(df_all.head())"
   ]
  },
  {
   "cell_type": "code",
   "execution_count": 7,
   "id": "79753726",
   "metadata": {},
   "outputs": [
    {
     "name": "stdout",
     "output_type": "stream",
     "text": [
      "Index(['Nameplate', 'Technology', 'Latitude', 'Longitude', 'PLNTCODE', 'State',\n",
      "       'Year'],\n",
      "      dtype='object')\n",
      "Index(['Nameplate', 'Technology', 'Latitude', 'Longitude', 'PLNTCODE', 'State',\n",
      "       'Year'],\n",
      "      dtype='object')\n",
      "Index(['Nameplate', 'Technology', 'Latitude', 'Longitude', 'PLNTCODE', 'State',\n",
      "       'Year'],\n",
      "      dtype='object')\n",
      "Index(['Nameplate', 'Technology', 'Latitude', 'Longitude', 'PLNTCODE', 'State',\n",
      "       'Year'],\n",
      "      dtype='object')\n",
      "Index(['Nameplate', 'Technology', 'Latitude', 'Longitude', 'PLNTCODE', 'State',\n",
      "       'Year'],\n",
      "      dtype='object')\n",
      "Index(['Nameplate', 'Technology', 'Latitude', 'Longitude', 'PLNTCODE', 'State',\n",
      "       'Year'],\n",
      "      dtype='object')\n",
      "Index(['Nameplate', 'Technology', 'Latitude', 'Longitude', 'PLNTCODE', 'State',\n",
      "       'Year'],\n",
      "      dtype='object')\n",
      "Index(['Nameplate', 'Technology', 'Latitude', 'Longitude', 'PLNTCODE', 'State',\n",
      "       'Year'],\n",
      "      dtype='object')\n",
      "Index(['Nameplate', 'Technology', 'Latitude', 'Longitude', 'PLANT_CODE',\n",
      "       'State', 'Year'],\n",
      "      dtype='object')\n",
      "Index(['Nameplate', 'Technology', 'Latitude', 'Longitude', 'PLANT_CODE',\n",
      "       'State', 'Year'],\n",
      "      dtype='object')\n",
      "Index(['Nameplate', 'Technology', 'Latitude', 'Longitude', 'PLANT_CODE',\n",
      "       'State', 'Year'],\n",
      "      dtype='object')\n",
      "Index(['Nameplate', 'Technology', 'Latitude', 'Longitude', 'Plant_ID', 'State',\n",
      "       'Year'],\n",
      "      dtype='object')\n",
      "Index(['Nameplate', 'Technology', 'Latitude', 'Longitude', 'Plant_ID', 'State',\n",
      "       'Year'],\n",
      "      dtype='object')\n",
      "Index(['Nameplate', 'Technology', 'Latitude', 'Longitude', 'Plant_ID', 'State',\n",
      "       'Year'],\n",
      "      dtype='object')\n",
      "Index(['Nameplate', 'Technology', 'Latitude', 'Longitude', 'Plant_ID', 'State',\n",
      "       'Year'],\n",
      "      dtype='object')\n",
      "Index(['Nameplate', 'Technology', 'Latitude', 'Longitude', 'Plant_ID', 'State',\n",
      "       'Year'],\n",
      "      dtype='object')\n",
      "Index(['Nameplate', 'Technology', 'Latitude', 'Longitude', 'Plant_ID', 'State',\n",
      "       'Year'],\n",
      "      dtype='object')\n",
      "Index(['Nameplate', 'Technology', 'Latitude', 'Longitude', 'State', 'Plant_ID',\n",
      "       'Year'],\n",
      "      dtype='object')\n"
     ]
    }
   ],
   "source": [
    "# Checking for why column names in the different dataframes\n",
    "\n",
    "for i in range(len(df)):\n",
    "    print(df[i].columns)"
   ]
  },
  {
   "cell_type": "code",
   "execution_count": 8,
   "id": "adapted-sheffield",
   "metadata": {},
   "outputs": [],
   "source": [
    "# Swap column location for State and Plant_ID for dataframe at index 17\n",
    "\n",
    "df[17] = df[17][['Nameplate', 'Technology', 'Latitude', 'Longitude','Plant_ID','State','Year']]"
   ]
  },
  {
   "cell_type": "code",
   "execution_count": 9,
   "id": "8be3510f",
   "metadata": {},
   "outputs": [],
   "source": [
    "# Rename all column at index 4 to \"Plant_ID\"\n",
    "\n",
    "for i in range(len(df)):\n",
    "    df[i].rename(columns={df[i].columns[4]: \"Plant_ID\" }, inplace = True)"
   ]
  },
  {
   "cell_type": "code",
   "execution_count": 10,
   "id": "detected-individual",
   "metadata": {},
   "outputs": [
    {
     "name": "stdout",
     "output_type": "stream",
     "text": [
      "Index(['Nameplate', 'Technology', 'Latitude', 'Longitude', 'Plant_ID', 'State',\n",
      "       'Year'],\n",
      "      dtype='object')\n",
      "Index(['Nameplate', 'Technology', 'Latitude', 'Longitude', 'Plant_ID', 'State',\n",
      "       'Year'],\n",
      "      dtype='object')\n",
      "Index(['Nameplate', 'Technology', 'Latitude', 'Longitude', 'Plant_ID', 'State',\n",
      "       'Year'],\n",
      "      dtype='object')\n",
      "Index(['Nameplate', 'Technology', 'Latitude', 'Longitude', 'Plant_ID', 'State',\n",
      "       'Year'],\n",
      "      dtype='object')\n",
      "Index(['Nameplate', 'Technology', 'Latitude', 'Longitude', 'Plant_ID', 'State',\n",
      "       'Year'],\n",
      "      dtype='object')\n",
      "Index(['Nameplate', 'Technology', 'Latitude', 'Longitude', 'Plant_ID', 'State',\n",
      "       'Year'],\n",
      "      dtype='object')\n",
      "Index(['Nameplate', 'Technology', 'Latitude', 'Longitude', 'Plant_ID', 'State',\n",
      "       'Year'],\n",
      "      dtype='object')\n",
      "Index(['Nameplate', 'Technology', 'Latitude', 'Longitude', 'Plant_ID', 'State',\n",
      "       'Year'],\n",
      "      dtype='object')\n",
      "Index(['Nameplate', 'Technology', 'Latitude', 'Longitude', 'Plant_ID', 'State',\n",
      "       'Year'],\n",
      "      dtype='object')\n",
      "Index(['Nameplate', 'Technology', 'Latitude', 'Longitude', 'Plant_ID', 'State',\n",
      "       'Year'],\n",
      "      dtype='object')\n",
      "Index(['Nameplate', 'Technology', 'Latitude', 'Longitude', 'Plant_ID', 'State',\n",
      "       'Year'],\n",
      "      dtype='object')\n",
      "Index(['Nameplate', 'Technology', 'Latitude', 'Longitude', 'Plant_ID', 'State',\n",
      "       'Year'],\n",
      "      dtype='object')\n",
      "Index(['Nameplate', 'Technology', 'Latitude', 'Longitude', 'Plant_ID', 'State',\n",
      "       'Year'],\n",
      "      dtype='object')\n",
      "Index(['Nameplate', 'Technology', 'Latitude', 'Longitude', 'Plant_ID', 'State',\n",
      "       'Year'],\n",
      "      dtype='object')\n",
      "Index(['Nameplate', 'Technology', 'Latitude', 'Longitude', 'Plant_ID', 'State',\n",
      "       'Year'],\n",
      "      dtype='object')\n",
      "Index(['Nameplate', 'Technology', 'Latitude', 'Longitude', 'Plant_ID', 'State',\n",
      "       'Year'],\n",
      "      dtype='object')\n",
      "Index(['Nameplate', 'Technology', 'Latitude', 'Longitude', 'Plant_ID', 'State',\n",
      "       'Year'],\n",
      "      dtype='object')\n",
      "Index(['Nameplate', 'Technology', 'Latitude', 'Longitude', 'Plant_ID', 'State',\n",
      "       'Year'],\n",
      "      dtype='object')\n"
     ]
    }
   ],
   "source": [
    "for i in range(len(df)):\n",
    "    print(df[i].columns)"
   ]
  },
  {
   "cell_type": "code",
   "execution_count": 11,
   "id": "5adaf61c",
   "metadata": {},
   "outputs": [],
   "source": [
    "df_all = pd.DataFrame()\n",
    "\n",
    "for i in range(0,18):\n",
    "    df_all = pd.concat([df_all,df[i]], ignore_index=True)"
   ]
  },
  {
   "cell_type": "code",
   "execution_count": 12,
   "id": "d460be1c",
   "metadata": {},
   "outputs": [
    {
     "name": "stdout",
     "output_type": "stream",
     "text": [
      "   Nameplate     Technology   Latitude  Longitude  Plant_ID State  Year\n",
      "0       45.0  Hydroelectric  33.458665 -87.356823         2    AL  2001\n",
      "1      170.1    Natural Gas  31.006900 -88.010300         3    AL  2001\n",
      "2      191.8          Other  31.006900 -88.010300         3    AL  2001\n",
      "3      170.1    Natural Gas  31.006900 -88.010300         3    AL  2001\n",
      "4      170.1    Natural Gas  31.006900 -88.010300         3    AL  2001\n"
     ]
    }
   ],
   "source": [
    "print(df_all.head())"
   ]
  },
  {
   "cell_type": "code",
   "execution_count": 13,
   "id": "23b9f2e5",
   "metadata": {},
   "outputs": [
    {
     "name": "stdout",
     "output_type": "stream",
     "text": [
      "(339807, 7)\n"
     ]
    }
   ],
   "source": [
    "print(df_all.shape)"
   ]
  },
  {
   "cell_type": "code",
   "execution_count": 24,
   "id": "official-algebra",
   "metadata": {},
   "outputs": [
    {
     "name": "stdout",
     "output_type": "stream",
     "text": [
      "Nameplate     False\n",
      "Technology    False\n",
      "Latitude      False\n",
      "Longitude     False\n",
      "Plant_ID      False\n",
      "State         False\n",
      "Year          False\n",
      "dtype: bool\n"
     ]
    }
   ],
   "source": [
    "print(df_all.isnull().any())"
   ]
  },
  {
   "cell_type": "code",
   "execution_count": 25,
   "id": "returning-glass",
   "metadata": {},
   "outputs": [
    {
     "name": "stdout",
     "output_type": "stream",
     "text": [
      "Nameplate     False\n",
      "Technology    False\n",
      "Latitude      False\n",
      "Longitude     False\n",
      "Plant_ID      False\n",
      "State         False\n",
      "Year          False\n",
      "dtype: bool\n"
     ]
    }
   ],
   "source": [
    "print(df_all.isna().any())"
   ]
  },
  {
   "cell_type": "code",
   "execution_count": 14,
   "id": "b5eac543",
   "metadata": {},
   "outputs": [
    {
     "name": "stdout",
     "output_type": "stream",
     "text": [
      "['Hydroelectric' 'Natural Gas' 'Other' 'Coal' 'Nuclear' 'Solar' 'Wind']\n",
      "Total technologies: 7\n"
     ]
    }
   ],
   "source": [
    "print(df_all['Technology'].unique())\n",
    "print('Total technologies:',len(df_all['Technology'].unique()))"
   ]
  },
  {
   "cell_type": "code",
   "execution_count": 15,
   "id": "72661fa8",
   "metadata": {},
   "outputs": [
    {
     "name": "stdout",
     "output_type": "stream",
     "text": [
      "['AL' 'TX' 'MN' 'CA' 'LA' 'KY' 'NE' 'AK' 'NM' 'NY' 'WA' 'AZ' 'KS' 'SC'\n",
      " 'FL' 'NV' 'UT' 'OK' 'AR' 'IL' 'OH' 'CO' 'WY' 'CT' 'MA' 'VT' 'DE' 'MD'\n",
      " 'DC' 'GA' 'MO' 'HI' 'ID' 'ME' 'IN' 'NC' 'IA' 'MI' 'WI' 'MS' 'MT' 'NH'\n",
      " 'NJ' 'ND' 'OR' 'PA' 'RI' 'SD' 'TN' 'VA' 'WV']\n",
      "Total States:  51\n"
     ]
    }
   ],
   "source": [
    "print(df_all['State'].unique())\n",
    "print('Total States: ',len(df_all['State'].unique()))"
   ]
  },
  {
   "cell_type": "code",
   "execution_count": 16,
   "id": "4766671a",
   "metadata": {},
   "outputs": [],
   "source": [
    "df_solar = df_all[df_all['Technology'] == 'Solar']"
   ]
  },
  {
   "cell_type": "code",
   "execution_count": 17,
   "id": "f703bc40",
   "metadata": {},
   "outputs": [
    {
     "data": {
      "text/html": [
       "<div>\n",
       "<style scoped>\n",
       "    .dataframe tbody tr th:only-of-type {\n",
       "        vertical-align: middle;\n",
       "    }\n",
       "\n",
       "    .dataframe tbody tr th {\n",
       "        vertical-align: top;\n",
       "    }\n",
       "\n",
       "    .dataframe thead th {\n",
       "        text-align: right;\n",
       "    }\n",
       "</style>\n",
       "<table border=\"1\" class=\"dataframe\">\n",
       "  <thead>\n",
       "    <tr style=\"text-align: right;\">\n",
       "      <th></th>\n",
       "      <th>Nameplate</th>\n",
       "      <th>Technology</th>\n",
       "      <th>Latitude</th>\n",
       "      <th>Longitude</th>\n",
       "      <th>Plant_ID</th>\n",
       "      <th>State</th>\n",
       "      <th>Year</th>\n",
       "    </tr>\n",
       "  </thead>\n",
       "  <tbody>\n",
       "    <tr>\n",
       "      <th>264</th>\n",
       "      <td>0.2</td>\n",
       "      <td>Solar</td>\n",
       "      <td>33.422500</td>\n",
       "      <td>-111.912200</td>\n",
       "      <td>116</td>\n",
       "      <td>AZ</td>\n",
       "      <td>2001</td>\n",
       "    </tr>\n",
       "    <tr>\n",
       "      <th>265</th>\n",
       "      <td>0.1</td>\n",
       "      <td>Solar</td>\n",
       "      <td>33.422500</td>\n",
       "      <td>-111.912200</td>\n",
       "      <td>116</td>\n",
       "      <td>AZ</td>\n",
       "      <td>2001</td>\n",
       "    </tr>\n",
       "    <tr>\n",
       "      <th>266</th>\n",
       "      <td>0.1</td>\n",
       "      <td>Solar</td>\n",
       "      <td>33.422500</td>\n",
       "      <td>-111.912200</td>\n",
       "      <td>116</td>\n",
       "      <td>AZ</td>\n",
       "      <td>2001</td>\n",
       "    </tr>\n",
       "    <tr>\n",
       "      <th>304</th>\n",
       "      <td>0.2</td>\n",
       "      <td>Solar</td>\n",
       "      <td>33.556100</td>\n",
       "      <td>-112.215300</td>\n",
       "      <td>141</td>\n",
       "      <td>AZ</td>\n",
       "      <td>2001</td>\n",
       "    </tr>\n",
       "    <tr>\n",
       "      <th>1059</th>\n",
       "      <td>1.0</td>\n",
       "      <td>Solar</td>\n",
       "      <td>38.340015</td>\n",
       "      <td>-121.113861</td>\n",
       "      <td>529</td>\n",
       "      <td>CA</td>\n",
       "      <td>2001</td>\n",
       "    </tr>\n",
       "  </tbody>\n",
       "</table>\n",
       "</div>"
      ],
      "text/plain": [
       "      Nameplate Technology   Latitude   Longitude  Plant_ID State  Year\n",
       "264         0.2      Solar  33.422500 -111.912200       116    AZ  2001\n",
       "265         0.1      Solar  33.422500 -111.912200       116    AZ  2001\n",
       "266         0.1      Solar  33.422500 -111.912200       116    AZ  2001\n",
       "304         0.2      Solar  33.556100 -112.215300       141    AZ  2001\n",
       "1059        1.0      Solar  38.340015 -121.113861       529    CA  2001"
      ]
     },
     "execution_count": 17,
     "metadata": {},
     "output_type": "execute_result"
    }
   ],
   "source": [
    "df_solar.head()"
   ]
  },
  {
   "cell_type": "code",
   "execution_count": 18,
   "id": "26d8494f",
   "metadata": {},
   "outputs": [],
   "source": [
    "df_solar_year = df_solar.groupby(['Year'])['Technology'].count().reset_index()"
   ]
  },
  {
   "cell_type": "code",
   "execution_count": 19,
   "id": "44aa31e0",
   "metadata": {},
   "outputs": [
    {
     "data": {
      "text/html": [
       "<div>\n",
       "<style scoped>\n",
       "    .dataframe tbody tr th:only-of-type {\n",
       "        vertical-align: middle;\n",
       "    }\n",
       "\n",
       "    .dataframe tbody tr th {\n",
       "        vertical-align: top;\n",
       "    }\n",
       "\n",
       "    .dataframe thead th {\n",
       "        text-align: right;\n",
       "    }\n",
       "</style>\n",
       "<table border=\"1\" class=\"dataframe\">\n",
       "  <thead>\n",
       "    <tr style=\"text-align: right;\">\n",
       "      <th></th>\n",
       "      <th>Year</th>\n",
       "      <th>Technology</th>\n",
       "    </tr>\n",
       "  </thead>\n",
       "  <tbody>\n",
       "    <tr>\n",
       "      <th>0</th>\n",
       "      <td>2001</td>\n",
       "      <td>17</td>\n",
       "    </tr>\n",
       "    <tr>\n",
       "      <th>1</th>\n",
       "      <td>2002</td>\n",
       "      <td>17</td>\n",
       "    </tr>\n",
       "    <tr>\n",
       "      <th>2</th>\n",
       "      <td>2003</td>\n",
       "      <td>18</td>\n",
       "    </tr>\n",
       "    <tr>\n",
       "      <th>3</th>\n",
       "      <td>2004</td>\n",
       "      <td>18</td>\n",
       "    </tr>\n",
       "    <tr>\n",
       "      <th>4</th>\n",
       "      <td>2005</td>\n",
       "      <td>19</td>\n",
       "    </tr>\n",
       "  </tbody>\n",
       "</table>\n",
       "</div>"
      ],
      "text/plain": [
       "   Year  Technology\n",
       "0  2001          17\n",
       "1  2002          17\n",
       "2  2003          18\n",
       "3  2004          18\n",
       "4  2005          19"
      ]
     },
     "execution_count": 19,
     "metadata": {},
     "output_type": "execute_result"
    }
   ],
   "source": [
    "df_solar_year.head()"
   ]
  },
  {
   "cell_type": "code",
   "execution_count": 20,
   "id": "ca3cdf76",
   "metadata": {},
   "outputs": [
    {
     "data": {
      "image/png": "[encoded data removed]",
      "text/plain": [
       "<Figure size 1296x576 with 1 Axes>"
      ]
     },
     "metadata": {
      "needs_background": "light"
     },
     "output_type": "display_data"
    }
   ],
   "source": [
    "plt.figure(figsize=(18,8))\n",
    "\n",
    "plt.scatter(df_solar_year['Year'],df_solar_year['Technology'])\n",
    "plt.plot(df_solar_year['Year'],df_solar_year['Technology'])\n",
    "#plt.bar(df_solar_year['Year'],df_solar_year['Technology'])\n",
    "plt.xticks(np.arange(2001,2018,2))\n",
    "plt.show()"
   ]
  },
  {
   "cell_type": "code",
   "execution_count": 21,
   "id": "1754a9ab",
   "metadata": {},
   "outputs": [
    {
     "data": {
      "image/png": "[encoded data removed]",
      "text/plain": [
       "<Figure size 1296x576 with 1 Axes>"
      ]
     },
     "metadata": {
      "needs_background": "light"
     },
     "output_type": "display_data"
    }
   ],
   "source": [
    "df_coal = df_all[df_all['Technology'] == 'Coal']\n",
    "df_coal_year = df_coal.groupby(['Year'])['Technology'].count().reset_index()\n",
    "\n",
    "plt.figure(figsize=(18,8))\n",
    "plt.plot(df_coal_year['Year'],df_coal_year['Technology'])\n",
    "plt.xticks(np.arange(2001,2018,2))\n",
    "plt.show()"
   ]
  },
  {
   "cell_type": "code",
   "execution_count": 22,
   "id": "84ae7113",
   "metadata": {},
   "outputs": [
    {
     "data": {
      "image/png": "[encoded data removed]",
      "text/plain": [
       "<Figure size 1296x576 with 1 Axes>"
      ]
     },
     "metadata": {
      "needs_background": "light"
     },
     "output_type": "display_data"
    }
   ],
   "source": [
    "df_wind = df_all[df_all['Technology'] == 'Wind']\n",
    "df_wind_year = df_wind.groupby(['Year'])['Technology'].count().reset_index()\n",
    "\n",
    "plt.figure(figsize=(18,8))\n",
    "plt.plot(df_wind_year['Year'],df_wind_year['Technology'])\n",
    "plt.xticks(np.arange(2001,2018,2))\n",
    "plt.show()"
   ]
  },
  {
   "cell_type": "code",
   "execution_count": 27,
   "id": "a900b30f",
   "metadata": {},
   "outputs": [
    {
     "data": {
      "image/png": "[encoded data removed]",
      "text/plain": [
       "<Figure size 1296x576 with 1 Axes>"
      ]
     },
     "metadata": {
      "needs_background": "light"
     },
     "output_type": "display_data"
    }
   ],
   "source": [
    "df_hydroelectric = df_all[df_all['Technology'] == 'Hydroelectric']\n",
    "df_hydroelectric_year = df_hydroelectric.groupby(['Year'])['Technology'].count().reset_index()\n",
    "plt.figure(figsize=(18,8))\n",
    "plt.plot(df_hydroelectric_year['Year'],df_hydroelectric_year['Technology'])\n",
    "plt.xticks(np.arange(2001,2018,2))\n",
    "plt.show()"
   ]
  },
  {
   "cell_type": "code",
   "execution_count": null,
   "id": "589c5884",
   "metadata": {},
   "outputs": [],
   "source": []
  }
 ],
 "metadata": {
  "kernelspec": {
   "display_name": "Python 3",
   "language": "python",
   "name": "python3"
  },
  "language_info": {
   "codemirror_mode": {
    "name": "ipython",
    "version": 3
   },
   "file_extension": ".py",
   "mimetype": "text/x-python",
   "name": "python",
   "nbconvert_exporter": "python",
   "pygments_lexer": "ipython3",
   "version": "3.7.3"
  }
 },
 "nbformat": 4,
 "nbformat_minor": 5
}
